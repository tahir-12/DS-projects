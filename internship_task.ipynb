{
 "cells": [
  {
   "cell_type": "code",
   "execution_count": 1,
   "id": "e0541468",
   "metadata": {},
   "outputs": [],
   "source": [
    "import pandas as pd"
   ]
  },
  {
   "cell_type": "code",
   "execution_count": 2,
   "id": "3b337d23",
   "metadata": {},
   "outputs": [],
   "source": [
    "df=pd.read_csv(r'C:\\Users\\Admin\\Desktop\\CV\\shots_data.csv')"
   ]
  },
  {
   "cell_type": "code",
   "execution_count": 5,
   "id": "88947698",
   "metadata": {},
   "outputs": [
    {
     "data": {
      "text/html": [
       "<div>\n",
       "<style scoped>\n",
       "    .dataframe tbody tr th:only-of-type {\n",
       "        vertical-align: middle;\n",
       "    }\n",
       "\n",
       "    .dataframe tbody tr th {\n",
       "        vertical-align: top;\n",
       "    }\n",
       "\n",
       "    .dataframe thead th {\n",
       "        text-align: right;\n",
       "    }\n",
       "</style>\n",
       "<table border=\"1\" class=\"dataframe\">\n",
       "  <thead>\n",
       "    <tr style=\"text-align: right;\">\n",
       "      <th></th>\n",
       "      <th>team</th>\n",
       "      <th>x</th>\n",
       "      <th>y</th>\n",
       "      <th>fgmade</th>\n",
       "    </tr>\n",
       "  </thead>\n",
       "  <tbody>\n",
       "    <tr>\n",
       "      <th>0</th>\n",
       "      <td>Team A</td>\n",
       "      <td>-5.0</td>\n",
       "      <td>26.4</td>\n",
       "      <td>0</td>\n",
       "    </tr>\n",
       "    <tr>\n",
       "      <th>1</th>\n",
       "      <td>Team A</td>\n",
       "      <td>-0.8</td>\n",
       "      <td>1.2</td>\n",
       "      <td>1</td>\n",
       "    </tr>\n",
       "    <tr>\n",
       "      <th>2</th>\n",
       "      <td>Team A</td>\n",
       "      <td>-13.9</td>\n",
       "      <td>9.5</td>\n",
       "      <td>1</td>\n",
       "    </tr>\n",
       "    <tr>\n",
       "      <th>3</th>\n",
       "      <td>Team A</td>\n",
       "      <td>-5.4</td>\n",
       "      <td>26.2</td>\n",
       "      <td>0</td>\n",
       "    </tr>\n",
       "    <tr>\n",
       "      <th>4</th>\n",
       "      <td>Team A</td>\n",
       "      <td>-4.9</td>\n",
       "      <td>14.5</td>\n",
       "      <td>1</td>\n",
       "    </tr>\n",
       "    <tr>\n",
       "      <th>...</th>\n",
       "      <td>...</td>\n",
       "      <td>...</td>\n",
       "      <td>...</td>\n",
       "      <td>...</td>\n",
       "    </tr>\n",
       "    <tr>\n",
       "      <th>499</th>\n",
       "      <td>Team B</td>\n",
       "      <td>-0.5</td>\n",
       "      <td>2.2</td>\n",
       "      <td>0</td>\n",
       "    </tr>\n",
       "    <tr>\n",
       "      <th>500</th>\n",
       "      <td>Team B</td>\n",
       "      <td>3.5</td>\n",
       "      <td>7.6</td>\n",
       "      <td>0</td>\n",
       "    </tr>\n",
       "    <tr>\n",
       "      <th>501</th>\n",
       "      <td>Team B</td>\n",
       "      <td>0.2</td>\n",
       "      <td>8.8</td>\n",
       "      <td>0</td>\n",
       "    </tr>\n",
       "    <tr>\n",
       "      <th>502</th>\n",
       "      <td>Team B</td>\n",
       "      <td>-0.6</td>\n",
       "      <td>0.7</td>\n",
       "      <td>1</td>\n",
       "    </tr>\n",
       "    <tr>\n",
       "      <th>503</th>\n",
       "      <td>Team B</td>\n",
       "      <td>-0.3</td>\n",
       "      <td>3.6</td>\n",
       "      <td>0</td>\n",
       "    </tr>\n",
       "  </tbody>\n",
       "</table>\n",
       "<p>504 rows × 4 columns</p>\n",
       "</div>"
      ],
      "text/plain": [
       "       team     x     y  fgmade\n",
       "0    Team A  -5.0  26.4       0\n",
       "1    Team A  -0.8   1.2       1\n",
       "2    Team A -13.9   9.5       1\n",
       "3    Team A  -5.4  26.2       0\n",
       "4    Team A  -4.9  14.5       1\n",
       "..      ...   ...   ...     ...\n",
       "499  Team B  -0.5   2.2       0\n",
       "500  Team B   3.5   7.6       0\n",
       "501  Team B   0.2   8.8       0\n",
       "502  Team B  -0.6   0.7       1\n",
       "503  Team B  -0.3   3.6       0\n",
       "\n",
       "[504 rows x 4 columns]"
      ]
     },
     "execution_count": 5,
     "metadata": {},
     "output_type": "execute_result"
    }
   ],
   "source": [
    "df"
   ]
  },
  {
   "cell_type": "code",
   "execution_count": 6,
   "id": "5ad3dd01",
   "metadata": {},
   "outputs": [],
   "source": [
    "df1=df[df['team']=='Team A']\n",
    "df2=df[df['team']=='Team B']\n"
   ]
  },
  {
   "cell_type": "markdown",
   "id": "404bfbf2",
   "metadata": {},
   "source": [
    "# Team A"
   ]
  },
  {
   "cell_type": "code",
   "execution_count": 12,
   "id": "ce5d1166",
   "metadata": {},
   "outputs": [
    {
     "data": {
      "text/html": [
       "<div>\n",
       "<style scoped>\n",
       "    .dataframe tbody tr th:only-of-type {\n",
       "        vertical-align: middle;\n",
       "    }\n",
       "\n",
       "    .dataframe tbody tr th {\n",
       "        vertical-align: top;\n",
       "    }\n",
       "\n",
       "    .dataframe thead th {\n",
       "        text-align: right;\n",
       "    }\n",
       "</style>\n",
       "<table border=\"1\" class=\"dataframe\">\n",
       "  <thead>\n",
       "    <tr style=\"text-align: right;\">\n",
       "      <th></th>\n",
       "      <th>team</th>\n",
       "      <th>x</th>\n",
       "      <th>y</th>\n",
       "      <th>fgmade</th>\n",
       "    </tr>\n",
       "  </thead>\n",
       "  <tbody>\n",
       "    <tr>\n",
       "      <th>0</th>\n",
       "      <td>Team A</td>\n",
       "      <td>-5.0</td>\n",
       "      <td>26.4</td>\n",
       "      <td>0</td>\n",
       "    </tr>\n",
       "    <tr>\n",
       "      <th>1</th>\n",
       "      <td>Team A</td>\n",
       "      <td>-0.8</td>\n",
       "      <td>1.2</td>\n",
       "      <td>1</td>\n",
       "    </tr>\n",
       "    <tr>\n",
       "      <th>2</th>\n",
       "      <td>Team A</td>\n",
       "      <td>-13.9</td>\n",
       "      <td>9.5</td>\n",
       "      <td>1</td>\n",
       "    </tr>\n",
       "    <tr>\n",
       "      <th>3</th>\n",
       "      <td>Team A</td>\n",
       "      <td>-5.4</td>\n",
       "      <td>26.2</td>\n",
       "      <td>0</td>\n",
       "    </tr>\n",
       "    <tr>\n",
       "      <th>4</th>\n",
       "      <td>Team A</td>\n",
       "      <td>-4.9</td>\n",
       "      <td>14.5</td>\n",
       "      <td>1</td>\n",
       "    </tr>\n",
       "    <tr>\n",
       "      <th>...</th>\n",
       "      <td>...</td>\n",
       "      <td>...</td>\n",
       "      <td>...</td>\n",
       "      <td>...</td>\n",
       "    </tr>\n",
       "    <tr>\n",
       "      <th>275</th>\n",
       "      <td>Team A</td>\n",
       "      <td>-2.7</td>\n",
       "      <td>24.5</td>\n",
       "      <td>0</td>\n",
       "    </tr>\n",
       "    <tr>\n",
       "      <th>276</th>\n",
       "      <td>Team A</td>\n",
       "      <td>4.2</td>\n",
       "      <td>10.3</td>\n",
       "      <td>1</td>\n",
       "    </tr>\n",
       "    <tr>\n",
       "      <th>277</th>\n",
       "      <td>Team A</td>\n",
       "      <td>-9.0</td>\n",
       "      <td>1.2</td>\n",
       "      <td>1</td>\n",
       "    </tr>\n",
       "    <tr>\n",
       "      <th>278</th>\n",
       "      <td>Team A</td>\n",
       "      <td>1.4</td>\n",
       "      <td>-0.1</td>\n",
       "      <td>0</td>\n",
       "    </tr>\n",
       "    <tr>\n",
       "      <th>279</th>\n",
       "      <td>Team A</td>\n",
       "      <td>2.4</td>\n",
       "      <td>6.6</td>\n",
       "      <td>1</td>\n",
       "    </tr>\n",
       "  </tbody>\n",
       "</table>\n",
       "<p>280 rows × 4 columns</p>\n",
       "</div>"
      ],
      "text/plain": [
       "       team     x     y  fgmade\n",
       "0    Team A  -5.0  26.4       0\n",
       "1    Team A  -0.8   1.2       1\n",
       "2    Team A -13.9   9.5       1\n",
       "3    Team A  -5.4  26.2       0\n",
       "4    Team A  -4.9  14.5       1\n",
       "..      ...   ...   ...     ...\n",
       "275  Team A  -2.7  24.5       0\n",
       "276  Team A   4.2  10.3       1\n",
       "277  Team A  -9.0   1.2       1\n",
       "278  Team A   1.4  -0.1       0\n",
       "279  Team A   2.4   6.6       1\n",
       "\n",
       "[280 rows x 4 columns]"
      ]
     },
     "execution_count": 12,
     "metadata": {},
     "output_type": "execute_result"
    }
   ],
   "source": [
    "df1"
   ]
  },
  {
   "cell_type": "code",
   "execution_count": 124,
   "id": "94d9bc21",
   "metadata": {},
   "outputs": [],
   "source": [
    "def condition(df):\n",
    "    if (df.y>=7.8) & ((df.y**2+df.x**2)<=23.75**2):\n",
    "        \n",
    "        return 'non-corner 3s'\n",
    "    elif (df.y<7.8) & (abs(df.x)<=22):\n",
    "        return 'corner 3s'\n",
    "    else:\n",
    "        return '2 point region'"
   ]
  },
  {
   "cell_type": "code",
   "execution_count": 125,
   "id": "c9da2764",
   "metadata": {},
   "outputs": [],
   "source": [
    "df1['fields']=df1.apply(condition,axis=1)"
   ]
  },
  {
   "cell_type": "code",
   "execution_count": 32,
   "id": "f9b07b5e",
   "metadata": {},
   "outputs": [],
   "source": [
    "def condition1(df):\n",
    "    if (df.y>=7.8) & ((df.y**2+df.x**2)<=23.75**2):\n",
    "        return 3\n",
    "    elif (df.y<7.8) & (abs(df.x)<=22):\n",
    "        return 3\n",
    "    else:\n",
    "        return 2"
   ]
  },
  {
   "cell_type": "code",
   "execution_count": 34,
   "id": "37d2c60b",
   "metadata": {},
   "outputs": [],
   "source": [
    "df1['points according to fields']=df1.apply(condition1,axis=1)"
   ]
  },
  {
   "cell_type": "code",
   "execution_count": 72,
   "id": "05ae62f8",
   "metadata": {},
   "outputs": [
    {
     "data": {
      "text/html": [
       "<div>\n",
       "<style scoped>\n",
       "    .dataframe tbody tr th:only-of-type {\n",
       "        vertical-align: middle;\n",
       "    }\n",
       "\n",
       "    .dataframe tbody tr th {\n",
       "        vertical-align: top;\n",
       "    }\n",
       "\n",
       "    .dataframe thead th {\n",
       "        text-align: right;\n",
       "    }\n",
       "</style>\n",
       "<table border=\"1\" class=\"dataframe\">\n",
       "  <thead>\n",
       "    <tr style=\"text-align: right;\">\n",
       "      <th></th>\n",
       "      <th>team</th>\n",
       "      <th>x</th>\n",
       "      <th>y</th>\n",
       "      <th>fgmade</th>\n",
       "      <th>fields</th>\n",
       "      <th>points according to fields</th>\n",
       "    </tr>\n",
       "  </thead>\n",
       "  <tbody>\n",
       "    <tr>\n",
       "      <th>0</th>\n",
       "      <td>Team A</td>\n",
       "      <td>-5.0</td>\n",
       "      <td>26.4</td>\n",
       "      <td>0</td>\n",
       "      <td>2 point region</td>\n",
       "      <td>2</td>\n",
       "    </tr>\n",
       "    <tr>\n",
       "      <th>1</th>\n",
       "      <td>Team A</td>\n",
       "      <td>-0.8</td>\n",
       "      <td>1.2</td>\n",
       "      <td>1</td>\n",
       "      <td>corner 3s</td>\n",
       "      <td>3</td>\n",
       "    </tr>\n",
       "    <tr>\n",
       "      <th>2</th>\n",
       "      <td>Team A</td>\n",
       "      <td>-13.9</td>\n",
       "      <td>9.5</td>\n",
       "      <td>1</td>\n",
       "      <td>non-corner 3s</td>\n",
       "      <td>3</td>\n",
       "    </tr>\n",
       "    <tr>\n",
       "      <th>3</th>\n",
       "      <td>Team A</td>\n",
       "      <td>-5.4</td>\n",
       "      <td>26.2</td>\n",
       "      <td>0</td>\n",
       "      <td>2 point region</td>\n",
       "      <td>2</td>\n",
       "    </tr>\n",
       "    <tr>\n",
       "      <th>4</th>\n",
       "      <td>Team A</td>\n",
       "      <td>-4.9</td>\n",
       "      <td>14.5</td>\n",
       "      <td>1</td>\n",
       "      <td>non-corner 3s</td>\n",
       "      <td>3</td>\n",
       "    </tr>\n",
       "    <tr>\n",
       "      <th>...</th>\n",
       "      <td>...</td>\n",
       "      <td>...</td>\n",
       "      <td>...</td>\n",
       "      <td>...</td>\n",
       "      <td>...</td>\n",
       "      <td>...</td>\n",
       "    </tr>\n",
       "    <tr>\n",
       "      <th>275</th>\n",
       "      <td>Team A</td>\n",
       "      <td>-2.7</td>\n",
       "      <td>24.5</td>\n",
       "      <td>0</td>\n",
       "      <td>2 point region</td>\n",
       "      <td>2</td>\n",
       "    </tr>\n",
       "    <tr>\n",
       "      <th>276</th>\n",
       "      <td>Team A</td>\n",
       "      <td>4.2</td>\n",
       "      <td>10.3</td>\n",
       "      <td>1</td>\n",
       "      <td>non-corner 3s</td>\n",
       "      <td>3</td>\n",
       "    </tr>\n",
       "    <tr>\n",
       "      <th>277</th>\n",
       "      <td>Team A</td>\n",
       "      <td>-9.0</td>\n",
       "      <td>1.2</td>\n",
       "      <td>1</td>\n",
       "      <td>corner 3s</td>\n",
       "      <td>3</td>\n",
       "    </tr>\n",
       "    <tr>\n",
       "      <th>278</th>\n",
       "      <td>Team A</td>\n",
       "      <td>1.4</td>\n",
       "      <td>-0.1</td>\n",
       "      <td>0</td>\n",
       "      <td>corner 3s</td>\n",
       "      <td>3</td>\n",
       "    </tr>\n",
       "    <tr>\n",
       "      <th>279</th>\n",
       "      <td>Team A</td>\n",
       "      <td>2.4</td>\n",
       "      <td>6.6</td>\n",
       "      <td>1</td>\n",
       "      <td>corner 3s</td>\n",
       "      <td>3</td>\n",
       "    </tr>\n",
       "  </tbody>\n",
       "</table>\n",
       "<p>280 rows × 6 columns</p>\n",
       "</div>"
      ],
      "text/plain": [
       "       team     x     y  fgmade          fields  points according to fields\n",
       "0    Team A  -5.0  26.4       0  2 point region                           2\n",
       "1    Team A  -0.8   1.2       1       corner 3s                           3\n",
       "2    Team A -13.9   9.5       1   non-corner 3s                           3\n",
       "3    Team A  -5.4  26.2       0  2 point region                           2\n",
       "4    Team A  -4.9  14.5       1   non-corner 3s                           3\n",
       "..      ...   ...   ...     ...             ...                         ...\n",
       "275  Team A  -2.7  24.5       0  2 point region                           2\n",
       "276  Team A   4.2  10.3       1   non-corner 3s                           3\n",
       "277  Team A  -9.0   1.2       1       corner 3s                           3\n",
       "278  Team A   1.4  -0.1       0       corner 3s                           3\n",
       "279  Team A   2.4   6.6       1       corner 3s                           3\n",
       "\n",
       "[280 rows x 6 columns]"
      ]
     },
     "execution_count": 72,
     "metadata": {},
     "output_type": "execute_result"
    }
   ],
   "source": [
    "df1\n"
   ]
  },
  {
   "cell_type": "markdown",
   "id": "f03d3c33",
   "metadata": {},
   "source": [
    "# eFG% for team A"
   ]
  },
  {
   "cell_type": "code",
   "execution_count": 48,
   "id": "eae51c9c",
   "metadata": {},
   "outputs": [],
   "source": [
    "#After investigation of efg \n",
    "#FGM= field goals made\n",
    "#FGA=field goal attempts\n",
    "#3PM=3 point field goals made\n",
    "efg_A=((len(df1[df1.fgmade==1])+\n",
    "        (0.5*len(df1[df1['points according to fields']==3])))/len(df1))\n"
   ]
  },
  {
   "cell_type": "code",
   "execution_count": 50,
   "id": "dda9b49e",
   "metadata": {},
   "outputs": [
    {
     "name": "stdout",
     "output_type": "stream",
     "text": [
      "EFFECTIVE GOAL % for team A is 0.7928571428571428\n"
     ]
    }
   ],
   "source": [
    "print('EFFECTIVE GOAL % for team A is',efg_A)"
   ]
  },
  {
   "cell_type": "markdown",
   "id": "4abee3fa",
   "metadata": {},
   "source": [
    "# shot distribution for Team A"
   ]
  },
  {
   "cell_type": "code",
   "execution_count": 112,
   "id": "9f9a4326",
   "metadata": {},
   "outputs": [],
   "source": [
    "shot_distribution_A=pd.DataFrame(columns=['2PT','NC3','C3'],index=range(0,1))\n"
   ]
  },
  {
   "cell_type": "code",
   "execution_count": 78,
   "id": "679e4cfc",
   "metadata": {},
   "outputs": [],
   "source": [
    "two_pt_A=len(df1[df1.fields=='2 point region'])/len(df1)"
   ]
  },
  {
   "cell_type": "code",
   "execution_count": 79,
   "id": "e4043501",
   "metadata": {},
   "outputs": [],
   "source": [
    "NC3_A=len(df1[df1.fields=='non-corner 3s'])/len(df1)"
   ]
  },
  {
   "cell_type": "code",
   "execution_count": 80,
   "id": "1eb1eb10",
   "metadata": {},
   "outputs": [],
   "source": [
    "C_3_A=len(df1[df1.fields=='corner 3s'])/len(df1)"
   ]
  },
  {
   "cell_type": "code",
   "execution_count": 116,
   "id": "7f735ea0",
   "metadata": {},
   "outputs": [],
   "source": [
    "shot_distribution_A['2PT'].iloc[0]=two_pt_A\n",
    "shot_distribution_A['NC3'].iloc[0]=NC3_A\n",
    "shot_distribution_A['C3'].iloc[0]=C_3_A"
   ]
  },
  {
   "cell_type": "code",
   "execution_count": 117,
   "id": "6f967818",
   "metadata": {},
   "outputs": [
    {
     "data": {
      "text/html": [
       "<div>\n",
       "<style scoped>\n",
       "    .dataframe tbody tr th:only-of-type {\n",
       "        vertical-align: middle;\n",
       "    }\n",
       "\n",
       "    .dataframe tbody tr th {\n",
       "        vertical-align: top;\n",
       "    }\n",
       "\n",
       "    .dataframe thead th {\n",
       "        text-align: right;\n",
       "    }\n",
       "</style>\n",
       "<table border=\"1\" class=\"dataframe\">\n",
       "  <thead>\n",
       "    <tr style=\"text-align: right;\">\n",
       "      <th></th>\n",
       "      <th>2PT</th>\n",
       "      <th>NC3</th>\n",
       "      <th>C3</th>\n",
       "    </tr>\n",
       "  </thead>\n",
       "  <tbody>\n",
       "    <tr>\n",
       "      <th>0</th>\n",
       "      <td>0.307143</td>\n",
       "      <td>0.225</td>\n",
       "      <td>0.467857</td>\n",
       "    </tr>\n",
       "  </tbody>\n",
       "</table>\n",
       "</div>"
      ],
      "text/plain": [
       "        2PT    NC3        C3\n",
       "0  0.307143  0.225  0.467857"
      ]
     },
     "execution_count": 117,
     "metadata": {},
     "output_type": "execute_result"
    }
   ],
   "source": [
    "shot_distribution_A"
   ]
  },
  {
   "cell_type": "markdown",
   "id": "5fd39648",
   "metadata": {},
   "source": [
    "# Team B"
   ]
  },
  {
   "cell_type": "code",
   "execution_count": 126,
   "id": "5727b8a2",
   "metadata": {},
   "outputs": [
    {
     "name": "stderr",
     "output_type": "stream",
     "text": [
      "C:\\Users\\Admin\\AppData\\Local\\Temp/ipykernel_17248/2342351205.py:1: SettingWithCopyWarning: \n",
      "A value is trying to be set on a copy of a slice from a DataFrame.\n",
      "Try using .loc[row_indexer,col_indexer] = value instead\n",
      "\n",
      "See the caveats in the documentation: https://pandas.pydata.org/pandas-docs/stable/user_guide/indexing.html#returning-a-view-versus-a-copy\n",
      "  df2['fields']=df2.apply(condition,axis=1)\n"
     ]
    }
   ],
   "source": [
    "df2['fields']=df2.apply(condition,axis=1)"
   ]
  },
  {
   "cell_type": "code",
   "execution_count": 127,
   "id": "93a0b0e2",
   "metadata": {},
   "outputs": [
    {
     "name": "stderr",
     "output_type": "stream",
     "text": [
      "C:\\Users\\Admin\\AppData\\Local\\Temp/ipykernel_17248/2241407601.py:1: SettingWithCopyWarning: \n",
      "A value is trying to be set on a copy of a slice from a DataFrame.\n",
      "Try using .loc[row_indexer,col_indexer] = value instead\n",
      "\n",
      "See the caveats in the documentation: https://pandas.pydata.org/pandas-docs/stable/user_guide/indexing.html#returning-a-view-versus-a-copy\n",
      "  df2['points according to fields']=df2.apply(condition1,axis=1)\n"
     ]
    }
   ],
   "source": [
    "df2['points according to fields']=df2.apply(condition1,axis=1)"
   ]
  },
  {
   "cell_type": "code",
   "execution_count": 129,
   "id": "e8dd220c",
   "metadata": {},
   "outputs": [
    {
     "data": {
      "text/html": [
       "<div>\n",
       "<style scoped>\n",
       "    .dataframe tbody tr th:only-of-type {\n",
       "        vertical-align: middle;\n",
       "    }\n",
       "\n",
       "    .dataframe tbody tr th {\n",
       "        vertical-align: top;\n",
       "    }\n",
       "\n",
       "    .dataframe thead th {\n",
       "        text-align: right;\n",
       "    }\n",
       "</style>\n",
       "<table border=\"1\" class=\"dataframe\">\n",
       "  <thead>\n",
       "    <tr style=\"text-align: right;\">\n",
       "      <th></th>\n",
       "      <th>team</th>\n",
       "      <th>x</th>\n",
       "      <th>y</th>\n",
       "      <th>fgmade</th>\n",
       "      <th>fields</th>\n",
       "      <th>points according to fields</th>\n",
       "    </tr>\n",
       "  </thead>\n",
       "  <tbody>\n",
       "    <tr>\n",
       "      <th>280</th>\n",
       "      <td>Team B</td>\n",
       "      <td>-2.9</td>\n",
       "      <td>16.7</td>\n",
       "      <td>0</td>\n",
       "      <td>non-corner 3s</td>\n",
       "      <td>3</td>\n",
       "    </tr>\n",
       "    <tr>\n",
       "      <th>281</th>\n",
       "      <td>Team B</td>\n",
       "      <td>10.3</td>\n",
       "      <td>24.7</td>\n",
       "      <td>0</td>\n",
       "      <td>2 point region</td>\n",
       "      <td>2</td>\n",
       "    </tr>\n",
       "    <tr>\n",
       "      <th>282</th>\n",
       "      <td>Team B</td>\n",
       "      <td>-3.5</td>\n",
       "      <td>5.3</td>\n",
       "      <td>1</td>\n",
       "      <td>corner 3s</td>\n",
       "      <td>3</td>\n",
       "    </tr>\n",
       "    <tr>\n",
       "      <th>283</th>\n",
       "      <td>Team B</td>\n",
       "      <td>0.9</td>\n",
       "      <td>1.5</td>\n",
       "      <td>0</td>\n",
       "      <td>corner 3s</td>\n",
       "      <td>3</td>\n",
       "    </tr>\n",
       "    <tr>\n",
       "      <th>284</th>\n",
       "      <td>Team B</td>\n",
       "      <td>22.8</td>\n",
       "      <td>-1.5</td>\n",
       "      <td>0</td>\n",
       "      <td>2 point region</td>\n",
       "      <td>2</td>\n",
       "    </tr>\n",
       "    <tr>\n",
       "      <th>...</th>\n",
       "      <td>...</td>\n",
       "      <td>...</td>\n",
       "      <td>...</td>\n",
       "      <td>...</td>\n",
       "      <td>...</td>\n",
       "      <td>...</td>\n",
       "    </tr>\n",
       "    <tr>\n",
       "      <th>499</th>\n",
       "      <td>Team B</td>\n",
       "      <td>-0.5</td>\n",
       "      <td>2.2</td>\n",
       "      <td>0</td>\n",
       "      <td>corner 3s</td>\n",
       "      <td>3</td>\n",
       "    </tr>\n",
       "    <tr>\n",
       "      <th>500</th>\n",
       "      <td>Team B</td>\n",
       "      <td>3.5</td>\n",
       "      <td>7.6</td>\n",
       "      <td>0</td>\n",
       "      <td>corner 3s</td>\n",
       "      <td>3</td>\n",
       "    </tr>\n",
       "    <tr>\n",
       "      <th>501</th>\n",
       "      <td>Team B</td>\n",
       "      <td>0.2</td>\n",
       "      <td>8.8</td>\n",
       "      <td>0</td>\n",
       "      <td>non-corner 3s</td>\n",
       "      <td>3</td>\n",
       "    </tr>\n",
       "    <tr>\n",
       "      <th>502</th>\n",
       "      <td>Team B</td>\n",
       "      <td>-0.6</td>\n",
       "      <td>0.7</td>\n",
       "      <td>1</td>\n",
       "      <td>corner 3s</td>\n",
       "      <td>3</td>\n",
       "    </tr>\n",
       "    <tr>\n",
       "      <th>503</th>\n",
       "      <td>Team B</td>\n",
       "      <td>-0.3</td>\n",
       "      <td>3.6</td>\n",
       "      <td>0</td>\n",
       "      <td>corner 3s</td>\n",
       "      <td>3</td>\n",
       "    </tr>\n",
       "  </tbody>\n",
       "</table>\n",
       "<p>224 rows × 6 columns</p>\n",
       "</div>"
      ],
      "text/plain": [
       "       team     x     y  fgmade          fields  points according to fields\n",
       "280  Team B  -2.9  16.7       0   non-corner 3s                           3\n",
       "281  Team B  10.3  24.7       0  2 point region                           2\n",
       "282  Team B  -3.5   5.3       1       corner 3s                           3\n",
       "283  Team B   0.9   1.5       0       corner 3s                           3\n",
       "284  Team B  22.8  -1.5       0  2 point region                           2\n",
       "..      ...   ...   ...     ...             ...                         ...\n",
       "499  Team B  -0.5   2.2       0       corner 3s                           3\n",
       "500  Team B   3.5   7.6       0       corner 3s                           3\n",
       "501  Team B   0.2   8.8       0   non-corner 3s                           3\n",
       "502  Team B  -0.6   0.7       1       corner 3s                           3\n",
       "503  Team B  -0.3   3.6       0       corner 3s                           3\n",
       "\n",
       "[224 rows x 6 columns]"
      ]
     },
     "execution_count": 129,
     "metadata": {},
     "output_type": "execute_result"
    }
   ],
   "source": [
    "df2"
   ]
  },
  {
   "cell_type": "markdown",
   "id": "04b4c1aa",
   "metadata": {},
   "source": [
    "# eFG% for team A"
   ]
  },
  {
   "cell_type": "code",
   "execution_count": 131,
   "id": "55fe4632",
   "metadata": {},
   "outputs": [],
   "source": [
    "efg_B=((len(df2[df2.fgmade==1])+\n",
    "        (0.5*len(df2[df2['points according to fields']==3])))/len(df2))\n"
   ]
  },
  {
   "cell_type": "code",
   "execution_count": 132,
   "id": "bf0ba1fd",
   "metadata": {},
   "outputs": [
    {
     "data": {
      "text/plain": [
       "0.7477678571428571"
      ]
     },
     "execution_count": 132,
     "metadata": {},
     "output_type": "execute_result"
    }
   ],
   "source": [
    "print('EFFECTIVE GOAL % for team A is',efg_B)"
   ]
  },
  {
   "cell_type": "markdown",
   "id": "e67a3749",
   "metadata": {},
   "source": [
    "# shot distribution for Team A"
   ]
  },
  {
   "cell_type": "code",
   "execution_count": 133,
   "id": "fec7194d",
   "metadata": {},
   "outputs": [],
   "source": [
    "shot_distribution_B=pd.DataFrame(columns=['2PT','NC3','C3'],index=range(0,1))"
   ]
  },
  {
   "cell_type": "code",
   "execution_count": 134,
   "id": "e3f5bc08",
   "metadata": {},
   "outputs": [],
   "source": [
    "two_pt_B=len(df2[df2.fields=='2 point region'])/len(df2)"
   ]
  },
  {
   "cell_type": "code",
   "execution_count": 135,
   "id": "add6889f",
   "metadata": {},
   "outputs": [],
   "source": [
    "NC3_B=len(df2[df2.fields=='non-corner 3s'])/len(df2)"
   ]
  },
  {
   "cell_type": "code",
   "execution_count": 136,
   "id": "bdf096c6",
   "metadata": {},
   "outputs": [],
   "source": [
    "C_3_B=len(df2[df2.fields=='corner 3s'])/len(df2)"
   ]
  },
  {
   "cell_type": "code",
   "execution_count": 137,
   "id": "a7704964",
   "metadata": {},
   "outputs": [],
   "source": [
    "shot_distribution_B['2PT'].iloc[0]=two_pt_B\n",
    "shot_distribution_B['NC3'].iloc[0]=NC3_B\n",
    "shot_distribution_B['C3'].iloc[0]=C_3_B"
   ]
  },
  {
   "cell_type": "code",
   "execution_count": 138,
   "id": "f77d9398",
   "metadata": {},
   "outputs": [
    {
     "data": {
      "text/html": [
       "<div>\n",
       "<style scoped>\n",
       "    .dataframe tbody tr th:only-of-type {\n",
       "        vertical-align: middle;\n",
       "    }\n",
       "\n",
       "    .dataframe tbody tr th {\n",
       "        vertical-align: top;\n",
       "    }\n",
       "\n",
       "    .dataframe thead th {\n",
       "        text-align: right;\n",
       "    }\n",
       "</style>\n",
       "<table border=\"1\" class=\"dataframe\">\n",
       "  <thead>\n",
       "    <tr style=\"text-align: right;\">\n",
       "      <th></th>\n",
       "      <th>2PT</th>\n",
       "      <th>NC3</th>\n",
       "      <th>C3</th>\n",
       "    </tr>\n",
       "  </thead>\n",
       "  <tbody>\n",
       "    <tr>\n",
       "      <th>0</th>\n",
       "      <td>0.325893</td>\n",
       "      <td>0.276786</td>\n",
       "      <td>0.397321</td>\n",
       "    </tr>\n",
       "  </tbody>\n",
       "</table>\n",
       "</div>"
      ],
      "text/plain": [
       "        2PT       NC3        C3\n",
       "0  0.325893  0.276786  0.397321"
      ]
     },
     "execution_count": 138,
     "metadata": {},
     "output_type": "execute_result"
    }
   ],
   "source": [
    "shot_distribution_B"
   ]
  },
  {
   "cell_type": "markdown",
   "id": "1aa1b691",
   "metadata": {},
   "source": [
    "# questions"
   ]
  },
  {
   "cell_type": "code",
   "execution_count": 139,
   "id": "b80294a7",
   "metadata": {},
   "outputs": [
    {
     "data": {
      "text/plain": [
       "0.30714285714285716"
      ]
     },
     "execution_count": 139,
     "metadata": {},
     "output_type": "execute_result"
    }
   ],
   "source": [
    "#1st\n",
    "len(df1[df1['points according to fields']==2])/len(df1)"
   ]
  },
  {
   "cell_type": "code",
   "execution_count": 140,
   "id": "72909965",
   "metadata": {},
   "outputs": [
    {
     "data": {
      "text/plain": [
       "0.225"
      ]
     },
     "execution_count": 140,
     "metadata": {},
     "output_type": "execute_result"
    }
   ],
   "source": [
    "#2nd\n",
    "len(df1[df1['fields']=='non-corner 3s'])/len(df1)"
   ]
  },
  {
   "cell_type": "code",
   "execution_count": 141,
   "id": "81bdbc2e",
   "metadata": {},
   "outputs": [
    {
     "data": {
      "text/plain": [
       "0.46785714285714286"
      ]
     },
     "execution_count": 141,
     "metadata": {},
     "output_type": "execute_result"
    }
   ],
   "source": [
    "#3rd\n",
    "len(df1[df1['fields']=='corner 3s'])/len(df1)"
   ]
  },
  {
   "cell_type": "code",
   "execution_count": 159,
   "id": "84529122",
   "metadata": {},
   "outputs": [
    {
     "data": {
      "text/plain": [
       "0.10714285714285714"
      ]
     },
     "execution_count": 159,
     "metadata": {},
     "output_type": "execute_result"
    }
   ],
   "source": [
    "#4th\n",
    "(len(df1[(df1['fields']=='2 point region') & (df1.fgmade==1)]))/len(df1)\n"
   ]
  },
  {
   "cell_type": "code",
   "execution_count": 167,
   "id": "ee5ffab8",
   "metadata": {},
   "outputs": [
    {
     "data": {
      "text/plain": [
       "0.1982142857142857"
      ]
     },
     "execution_count": 167,
     "metadata": {},
     "output_type": "execute_result"
    }
   ],
   "source": [
    "#5th\n",
    "((len(df1[(df1['fields']=='non-corner 3s') & (df1.fgmade==1)]))+\n",
    "        (0.5*len(df1[(df1['fields']=='non-corner 3s') & (df1['points according to fields']==3)])))/len(df1)\n"
   ]
  },
  {
   "cell_type": "code",
   "execution_count": 166,
   "id": "39dfeb7c",
   "metadata": {},
   "outputs": [
    {
     "data": {
      "text/plain": [
       "0.4875"
      ]
     },
     "execution_count": 166,
     "metadata": {},
     "output_type": "execute_result"
    }
   ],
   "source": [
    "#6th\n",
    "((len(df1[(df1['fields']=='corner 3s') & (df1.fgmade==1)]))+\n",
    "        (0.5*len(df1[(df1['fields']=='corner 3s') & (df1['points according to fields']==3)])))/len(df1)\n"
   ]
  },
  {
   "cell_type": "code",
   "execution_count": 168,
   "id": "ee5b69ed",
   "metadata": {},
   "outputs": [
    {
     "data": {
      "text/plain": [
       "0.32589285714285715"
      ]
     },
     "execution_count": 168,
     "metadata": {},
     "output_type": "execute_result"
    }
   ],
   "source": [
    "#7th\n",
    "len(df2[df2['points according to fields']==2])/len(df2)"
   ]
  },
  {
   "cell_type": "code",
   "execution_count": 169,
   "id": "e2db0620",
   "metadata": {},
   "outputs": [
    {
     "data": {
      "text/plain": [
       "0.2767857142857143"
      ]
     },
     "execution_count": 169,
     "metadata": {},
     "output_type": "execute_result"
    }
   ],
   "source": [
    "#8th\n",
    "len(df2[df2['fields']=='non-corner 3s'])/len(df2)"
   ]
  },
  {
   "cell_type": "code",
   "execution_count": 170,
   "id": "bae7cc74",
   "metadata": {},
   "outputs": [
    {
     "data": {
      "text/plain": [
       "0.39732142857142855"
      ]
     },
     "execution_count": 170,
     "metadata": {},
     "output_type": "execute_result"
    }
   ],
   "source": [
    "#9th\n",
    "len(df2[df2['fields']=='corner 3s'])/len(df2)"
   ]
  },
  {
   "cell_type": "code",
   "execution_count": 171,
   "id": "9242e752",
   "metadata": {},
   "outputs": [
    {
     "data": {
      "text/plain": [
       "0.11160714285714286"
      ]
     },
     "execution_count": 171,
     "metadata": {},
     "output_type": "execute_result"
    }
   ],
   "source": [
    "#10th\n",
    "(len(df2[(df2['fields']=='2 point region') & (df2.fgmade==1)]))/len(df2)\n"
   ]
  },
  {
   "cell_type": "code",
   "execution_count": 172,
   "id": "4c3d8ea9",
   "metadata": {},
   "outputs": [
    {
     "data": {
      "text/plain": [
       "0.23214285714285715"
      ]
     },
     "execution_count": 172,
     "metadata": {},
     "output_type": "execute_result"
    }
   ],
   "source": [
    "#11th\n",
    "((len(df2[(df2['fields']=='non-corner 3s') & (df2.fgmade==1)]))+\n",
    "        (0.5*len(df2[(df2['fields']=='non-corner 3s') & (df2['points according to fields']==3)])))/len(df2)\n"
   ]
  },
  {
   "cell_type": "code",
   "execution_count": 173,
   "id": "27e861de",
   "metadata": {},
   "outputs": [
    {
     "data": {
      "text/plain": [
       "0.40401785714285715"
      ]
     },
     "execution_count": 173,
     "metadata": {},
     "output_type": "execute_result"
    }
   ],
   "source": [
    "#12th\n",
    "((len(df2[(df2['fields']=='corner 3s') & (df2.fgmade==1)]))+\n",
    "        (0.5*len(df2[(df2['fields']=='corner 3s') & (df2['points according to fields']==3)])))/len(df2)\n"
   ]
  },
  {
   "cell_type": "code",
   "execution_count": null,
   "id": "4dd57e3a",
   "metadata": {},
   "outputs": [],
   "source": []
  }
 ],
 "metadata": {
  "kernelspec": {
   "display_name": "Python 3 (ipykernel)",
   "language": "python",
   "name": "python3"
  },
  "language_info": {
   "codemirror_mode": {
    "name": "ipython",
    "version": 3
   },
   "file_extension": ".py",
   "mimetype": "text/x-python",
   "name": "python",
   "nbconvert_exporter": "python",
   "pygments_lexer": "ipython3",
   "version": "3.9.7"
  }
 },
 "nbformat": 4,
 "nbformat_minor": 5
}
